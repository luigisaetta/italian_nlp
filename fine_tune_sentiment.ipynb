{
 "cells": [
  {
   "cell_type": "markdown",
   "id": "b0351cc9",
   "metadata": {},
   "source": [
    "### Fine tune an HF model on Italian Sentiment Analysis\n",
    "* starting point: the neuraly/bert-base-italian-cased-sentiment model\n",
    "* fine tuned on: cardiffnlp/tweet_sentiment_multilingual, italian subset\n",
    "* + a set of email generated for one Town demo (contained in a csv file)"
   ]
  },
  {
   "cell_type": "code",
   "execution_count": 1,
   "id": "444f007e",
   "metadata": {},
   "outputs": [
    {
     "name": "stdout",
     "output_type": "stream",
     "text": [
      "[2023-11-24 11:44:38,807] [INFO] [real_accelerator.py:133:get_accelerator] Setting ds_accelerator to cuda (auto detect)\n"
     ]
    }
   ],
   "source": [
    "import numpy as np\n",
    "from datasets import load_dataset, concatenate_datasets, ClassLabel, Features, Value\n",
    "from transformers import AutoTokenizer\n",
    "from transformers import AutoModelForSequenceClassification\n",
    "from transformers import TrainingArguments\n",
    "from transformers import TrainingArguments, Trainer\n",
    "import evaluate"
   ]
  },
  {
   "cell_type": "code",
   "execution_count": 2,
   "id": "16528e0a",
   "metadata": {},
   "outputs": [],
   "source": [
    "# contains email and sentiment to add to the training dataset\n",
    "# hand labelled\n",
    "FILE_NAME = \"labelled_text.csv\"\n",
    "\n",
    "DATASET_NAME = \"cardiffnlp/tweet_sentiment_multilingual\"\n",
    "SUBSET_NAME = \"italian\"\n",
    "\n",
    "PRETRAINED_MODEL_NAME = \"neuraly/bert-base-italian-cased-sentiment\""
   ]
  },
  {
   "cell_type": "code",
   "execution_count": 3,
   "id": "c5d97c9a",
   "metadata": {},
   "outputs": [],
   "source": [
    "# all tools here\n",
    "tokenizer = AutoTokenizer.from_pretrained(PRETRAINED_MODEL_NAME)\n",
    "\n",
    "model = AutoModelForSequenceClassification.from_pretrained(PRETRAINED_MODEL_NAME, num_labels=3)\n",
    "\n",
    "metric = evaluate.load(\"accuracy\")\n",
    "\n",
    "def tokenize_function(examples):\n",
    "    return tokenizer(examples[\"text\"], padding=\"max_length\", truncation=True)\n",
    "\n",
    "def compute_metrics(eval_pred):\n",
    "    logits, labels = eval_pred\n",
    "    predictions = np.argmax(logits, axis=-1)\n",
    "    return metric.compute(predictions=predictions, references=labels)\n",
    "\n",
    "# for my custom dataset\n",
    "def remove_non_breaking_space(example):\n",
    "    # Assuming the text is under the key 'text'\n",
    "    example['text'] = example['text'].replace('\\xa0', ' ')\n",
    "    return example"
   ]
  },
  {
   "cell_type": "markdown",
   "id": "f5d20c9e",
   "metadata": {},
   "source": [
    "### Load and preprocess the data"
   ]
  },
  {
   "cell_type": "code",
   "execution_count": 4,
   "id": "c8371002",
   "metadata": {},
   "outputs": [],
   "source": [
    "# load cardiff ita dataset\n",
    "dataset = load_dataset(DATASET_NAME, SUBSET_NAME)"
   ]
  },
  {
   "cell_type": "code",
   "execution_count": 5,
   "id": "962c5dad",
   "metadata": {},
   "outputs": [
    {
     "data": {
      "text/plain": [
       "{'text': 'articolo di Valerio Valentini per http Mario Monti ha presentato, nei giorni scorsi, la... http',\n",
       " 'label': 1}"
      ]
     },
     "execution_count": 5,
     "metadata": {},
     "output_type": "execute_result"
    }
   ],
   "source": [
    "# have a look at one example\n",
    "dataset[\"train\"][100]"
   ]
  },
  {
   "cell_type": "code",
   "execution_count": 6,
   "id": "602618aa",
   "metadata": {},
   "outputs": [
    {
     "data": {
      "text/plain": [
       "{'text': Value(dtype='string', id=None),\n",
       " 'label': ClassLabel(names=['negative', 'neutral', 'positive'], id=None)}"
      ]
     },
     "execution_count": 6,
     "metadata": {},
     "output_type": "execute_result"
    }
   ],
   "source": [
    "dataset[\"train\"].features"
   ]
  },
  {
   "cell_type": "markdown",
   "id": "3d0a873a",
   "metadata": {},
   "source": [
    "#### Adding to train dataset my emails"
   ]
  },
  {
   "cell_type": "code",
   "execution_count": 7,
   "id": "f65b7abe",
   "metadata": {},
   "outputs": [
    {
     "data": {
      "application/vnd.jupyter.widget-view+json": {
       "model_id": "b3fb0f5ed22f476d90edf095e378119a",
       "version_major": 2,
       "version_minor": 0
      },
      "text/plain": [
       "Downloading data files:   0%|          | 0/1 [00:00<?, ?it/s]"
      ]
     },
     "metadata": {},
     "output_type": "display_data"
    },
    {
     "data": {
      "application/vnd.jupyter.widget-view+json": {
       "model_id": "ecf3b102a4c64256ba88b10e8175cbbe",
       "version_major": 2,
       "version_minor": 0
      },
      "text/plain": [
       "Extracting data files:   0%|          | 0/1 [00:00<?, ?it/s]"
      ]
     },
     "metadata": {},
     "output_type": "display_data"
    },
    {
     "data": {
      "application/vnd.jupyter.widget-view+json": {
       "model_id": "73a1fc96fbc4421aa887d82105bb40c4",
       "version_major": 2,
       "version_minor": 0
      },
      "text/plain": [
       "Generating train split: 0 examples [00:00, ? examples/s]"
      ]
     },
     "metadata": {},
     "output_type": "display_data"
    },
    {
     "data": {
      "application/vnd.jupyter.widget-view+json": {
       "model_id": "04033a7e9f904a6187c97c28eae47882",
       "version_major": 2,
       "version_minor": 0
      },
      "text/plain": [
       "Map:   0%|          | 0/62 [00:00<?, ? examples/s]"
      ]
     },
     "metadata": {},
     "output_type": "display_data"
    }
   ],
   "source": [
    "# need to cast int to ClassLabel in order to be able to concatenat\n",
    "features = Features({\n",
    "    'text': Value('string'),\n",
    "    'label': ClassLabel(names=['negative', 'neutral', 'positive'])\n",
    "})\n",
    "\n",
    "# remove the split and take (the only) train\n",
    "DELIMITER = \",\"\n",
    "\n",
    "my_csv_ds = load_dataset('csv', data_files=FILE_NAME, delimiter=DELIMITER, features=features)[\"train\"]\n",
    "\n",
    "# remove non breaking space\n",
    "my_csv_ds = my_csv_ds.map(remove_non_breaking_space)"
   ]
  },
  {
   "cell_type": "code",
   "execution_count": 8,
   "id": "e6f0a586",
   "metadata": {},
   "outputs": [
    {
     "data": {
      "text/plain": [
       "{'text': 'Buongiorno sono utente9  volevo chiedere alcune informazioni relative al servizio4 e dove devo recarmi per poter sbrigare le pratiche relative  grazie  Matteo',\n",
       " 'label': 1}"
      ]
     },
     "execution_count": 8,
     "metadata": {},
     "output_type": "execute_result"
    }
   ],
   "source": [
    "# have a look at one example\n",
    "my_csv_ds[1]"
   ]
  },
  {
   "cell_type": "code",
   "execution_count": 9,
   "id": "675f0a97",
   "metadata": {},
   "outputs": [
    {
     "data": {
      "application/vnd.jupyter.widget-view+json": {
       "model_id": "b6908e643b3b410587d04f7e02c55d00",
       "version_major": 2,
       "version_minor": 0
      },
      "text/plain": [
       "Map:   0%|          | 0/62 [00:00<?, ? examples/s]"
      ]
     },
     "metadata": {},
     "output_type": "display_data"
    }
   ],
   "source": [
    "# tokenize\n",
    "\n",
    "tokenized_datasets = dataset.map(tokenize_function, batched=True)\n",
    "\n",
    "my_csv_ds_tokenized = my_csv_ds.map(tokenize_function, batched=True)"
   ]
  },
  {
   "cell_type": "code",
   "execution_count": 10,
   "id": "7acead1b",
   "metadata": {},
   "outputs": [],
   "source": [
    "# build the training and validationdataset\n",
    "# we add the custom dataset, from csv, only to training dataset\n",
    "train_ds = tokenized_datasets[\"train\"].shuffle(seed=42)\n",
    "test_ds = tokenized_datasets[\"test\"].shuffle(seed=42)\n",
    "eval_ds = tokenized_datasets[\"validation\"].shuffle(seed=42)\n",
    "\n",
    "# concatenate to get final training dataset\n",
    "ext_train_ds = concatenate_datasets([train_ds, test_ds, my_csv_ds_tokenized])"
   ]
  },
  {
   "cell_type": "code",
   "execution_count": 12,
   "id": "76ce2672",
   "metadata": {},
   "outputs": [
    {
     "name": "stdout",
     "output_type": "stream",
     "text": [
      "We have 2771 samples in training dataset...\n",
      "We have 324 samples in validation dataset...\n"
     ]
    }
   ],
   "source": [
    "print(f\"We have {len(ext_train_ds)} samples in training dataset...\")\n",
    "print(f\"We have {len(eval_ds)} samples in validation dataset...\")"
   ]
  },
  {
   "cell_type": "markdown",
   "id": "12cdb3ab",
   "metadata": {},
   "source": [
    "### Prepare for training"
   ]
  },
  {
   "cell_type": "code",
   "execution_count": 13,
   "id": "372f5f5c",
   "metadata": {},
   "outputs": [],
   "source": [
    "SAVE_DIR = \"sentiment_ita\"\n",
    "\n",
    "EPOCHS = 14\n",
    "\n",
    "training_args = TrainingArguments(output_dir=SAVE_DIR, \n",
    "                                  evaluation_strategy=\"steps\",\n",
    "                                  save_strategy=\"steps\",\n",
    "                                  logging_strategy=\"steps\",\n",
    "                                  num_train_epochs=EPOCHS,\n",
    "                                  logging_steps=100,\n",
    "                                  save_steps=100,\n",
    "                                  eval_steps=100,\n",
    "                                  warmup_steps=800,\n",
    "                                  learning_rate=4e-5,\n",
    "                                  load_best_model_at_end=True,\n",
    "                                  metric_for_best_model=\"accuracy\",\n",
    "                                  greater_is_better=True,\n",
    "                                  save_total_limit=1\n",
    "                                 )"
   ]
  },
  {
   "cell_type": "code",
   "execution_count": 14,
   "id": "4e789898",
   "metadata": {},
   "outputs": [],
   "source": [
    "trainer = Trainer(\n",
    "    model=model,\n",
    "    args=training_args,\n",
    "    train_dataset=ext_train_ds,\n",
    "    eval_dataset=eval_ds,\n",
    "    compute_metrics=compute_metrics,\n",
    ")"
   ]
  },
  {
   "cell_type": "markdown",
   "id": "0636f150",
   "metadata": {},
   "source": [
    "### Training"
   ]
  },
  {
   "cell_type": "code",
   "execution_count": 15,
   "id": "a414810e",
   "metadata": {},
   "outputs": [
    {
     "name": "stderr",
     "output_type": "stream",
     "text": [
      "huggingface/tokenizers: The current process just got forked, after parallelism has already been used. Disabling parallelism to avoid deadlocks...\n",
      "To disable this warning, you can either:\n",
      "\t- Avoid using `tokenizers` before the fork if possible\n",
      "\t- Explicitly set the environment variable TOKENIZERS_PARALLELISM=(true | false)\n",
      "huggingface/tokenizers: The current process just got forked, after parallelism has already been used. Disabling parallelism to avoid deadlocks...\n",
      "To disable this warning, you can either:\n",
      "\t- Avoid using `tokenizers` before the fork if possible\n",
      "\t- Explicitly set the environment variable TOKENIZERS_PARALLELISM=(true | false)\n",
      "huggingface/tokenizers: The current process just got forked, after parallelism has already been used. Disabling parallelism to avoid deadlocks...\n",
      "To disable this warning, you can either:\n",
      "\t- Avoid using `tokenizers` before the fork if possible\n",
      "\t- Explicitly set the environment variable TOKENIZERS_PARALLELISM=(true | false)\n"
     ]
    },
    {
     "data": {
      "text/html": [
       "\n",
       "    <div>\n",
       "      \n",
       "      <progress value='2436' max='2436' style='width:300px; height:20px; vertical-align: middle;'></progress>\n",
       "      [2436/2436 16:46, Epoch 14/14]\n",
       "    </div>\n",
       "    <table border=\"1\" class=\"dataframe\">\n",
       "  <thead>\n",
       " <tr style=\"text-align: left;\">\n",
       "      <th>Step</th>\n",
       "      <th>Training Loss</th>\n",
       "      <th>Validation Loss</th>\n",
       "      <th>Accuracy</th>\n",
       "    </tr>\n",
       "  </thead>\n",
       "  <tbody>\n",
       "    <tr>\n",
       "      <td>100</td>\n",
       "      <td>1.469500</td>\n",
       "      <td>1.028592</td>\n",
       "      <td>0.617284</td>\n",
       "    </tr>\n",
       "    <tr>\n",
       "      <td>200</td>\n",
       "      <td>0.741600</td>\n",
       "      <td>0.785186</td>\n",
       "      <td>0.645062</td>\n",
       "    </tr>\n",
       "    <tr>\n",
       "      <td>300</td>\n",
       "      <td>0.616500</td>\n",
       "      <td>0.786511</td>\n",
       "      <td>0.657407</td>\n",
       "    </tr>\n",
       "    <tr>\n",
       "      <td>400</td>\n",
       "      <td>0.530400</td>\n",
       "      <td>0.862937</td>\n",
       "      <td>0.682099</td>\n",
       "    </tr>\n",
       "    <tr>\n",
       "      <td>500</td>\n",
       "      <td>0.429600</td>\n",
       "      <td>0.831812</td>\n",
       "      <td>0.691358</td>\n",
       "    </tr>\n",
       "    <tr>\n",
       "      <td>600</td>\n",
       "      <td>0.282000</td>\n",
       "      <td>1.058694</td>\n",
       "      <td>0.691358</td>\n",
       "    </tr>\n",
       "    <tr>\n",
       "      <td>700</td>\n",
       "      <td>0.234400</td>\n",
       "      <td>1.329301</td>\n",
       "      <td>0.657407</td>\n",
       "    </tr>\n",
       "    <tr>\n",
       "      <td>800</td>\n",
       "      <td>0.132700</td>\n",
       "      <td>1.549295</td>\n",
       "      <td>0.672840</td>\n",
       "    </tr>\n",
       "    <tr>\n",
       "      <td>900</td>\n",
       "      <td>0.160300</td>\n",
       "      <td>1.809868</td>\n",
       "      <td>0.660494</td>\n",
       "    </tr>\n",
       "    <tr>\n",
       "      <td>1000</td>\n",
       "      <td>0.104800</td>\n",
       "      <td>1.756739</td>\n",
       "      <td>0.669753</td>\n",
       "    </tr>\n",
       "    <tr>\n",
       "      <td>1100</td>\n",
       "      <td>0.086000</td>\n",
       "      <td>2.122054</td>\n",
       "      <td>0.657407</td>\n",
       "    </tr>\n",
       "    <tr>\n",
       "      <td>1200</td>\n",
       "      <td>0.043900</td>\n",
       "      <td>2.195981</td>\n",
       "      <td>0.682099</td>\n",
       "    </tr>\n",
       "    <tr>\n",
       "      <td>1300</td>\n",
       "      <td>0.022400</td>\n",
       "      <td>2.325146</td>\n",
       "      <td>0.682099</td>\n",
       "    </tr>\n",
       "    <tr>\n",
       "      <td>1400</td>\n",
       "      <td>0.020500</td>\n",
       "      <td>2.466760</td>\n",
       "      <td>0.679012</td>\n",
       "    </tr>\n",
       "    <tr>\n",
       "      <td>1500</td>\n",
       "      <td>0.019500</td>\n",
       "      <td>2.455829</td>\n",
       "      <td>0.672840</td>\n",
       "    </tr>\n",
       "    <tr>\n",
       "      <td>1600</td>\n",
       "      <td>0.013700</td>\n",
       "      <td>2.719388</td>\n",
       "      <td>0.669753</td>\n",
       "    </tr>\n",
       "    <tr>\n",
       "      <td>1700</td>\n",
       "      <td>0.004600</td>\n",
       "      <td>2.766452</td>\n",
       "      <td>0.672840</td>\n",
       "    </tr>\n",
       "    <tr>\n",
       "      <td>1800</td>\n",
       "      <td>0.016300</td>\n",
       "      <td>2.749550</td>\n",
       "      <td>0.657407</td>\n",
       "    </tr>\n",
       "    <tr>\n",
       "      <td>1900</td>\n",
       "      <td>0.005900</td>\n",
       "      <td>2.663311</td>\n",
       "      <td>0.666667</td>\n",
       "    </tr>\n",
       "    <tr>\n",
       "      <td>2000</td>\n",
       "      <td>0.005900</td>\n",
       "      <td>2.720024</td>\n",
       "      <td>0.663580</td>\n",
       "    </tr>\n",
       "    <tr>\n",
       "      <td>2100</td>\n",
       "      <td>0.003500</td>\n",
       "      <td>2.818573</td>\n",
       "      <td>0.663580</td>\n",
       "    </tr>\n",
       "    <tr>\n",
       "      <td>2200</td>\n",
       "      <td>0.000200</td>\n",
       "      <td>2.810877</td>\n",
       "      <td>0.663580</td>\n",
       "    </tr>\n",
       "    <tr>\n",
       "      <td>2300</td>\n",
       "      <td>0.000100</td>\n",
       "      <td>2.818104</td>\n",
       "      <td>0.666667</td>\n",
       "    </tr>\n",
       "    <tr>\n",
       "      <td>2400</td>\n",
       "      <td>0.001500</td>\n",
       "      <td>2.788338</td>\n",
       "      <td>0.669753</td>\n",
       "    </tr>\n",
       "  </tbody>\n",
       "</table><p>"
      ],
      "text/plain": [
       "<IPython.core.display.HTML object>"
      ]
     },
     "metadata": {},
     "output_type": "display_data"
    },
    {
     "data": {
      "text/plain": [
       "TrainOutput(global_step=2436, training_loss=0.20304089768717834, metrics={'train_runtime': 1009.115, 'train_samples_per_second': 38.444, 'train_steps_per_second': 2.414, 'total_flos': 1.0207221927340032e+16, 'train_loss': 0.20304089768717834, 'epoch': 14.0})"
      ]
     },
     "execution_count": 15,
     "metadata": {},
     "output_type": "execute_result"
    }
   ],
   "source": [
    "trainer.train()"
   ]
  },
  {
   "cell_type": "markdown",
   "id": "0373383f",
   "metadata": {},
   "source": [
    "### Saving"
   ]
  },
  {
   "cell_type": "code",
   "execution_count": 16,
   "id": "62e38dc2",
   "metadata": {},
   "outputs": [
    {
     "data": {
      "text/plain": [
       "('sentiment_ita/tokenizer_config.json',\n",
       " 'sentiment_ita/special_tokens_map.json',\n",
       " 'sentiment_ita/vocab.txt',\n",
       " 'sentiment_ita/added_tokens.json',\n",
       " 'sentiment_ita/tokenizer.json')"
      ]
     },
     "execution_count": 16,
     "metadata": {},
     "output_type": "execute_result"
    }
   ],
   "source": [
    "model.save_pretrained(SAVE_DIR)\n",
    "tokenizer.save_pretrained(SAVE_DIR)"
   ]
  },
  {
   "cell_type": "markdown",
   "id": "328c387d",
   "metadata": {},
   "source": [
    "### Save to HF Hub"
   ]
  },
  {
   "cell_type": "code",
   "execution_count": 17,
   "id": "1f4e744d",
   "metadata": {},
   "outputs": [
    {
     "data": {
      "application/vnd.jupyter.widget-view+json": {
       "model_id": "49e815ab07944635a1c979f4ffe1e3f9",
       "version_major": 2,
       "version_minor": 0
      },
      "text/plain": [
       "training_args.bin:   0%|          | 0.00/4.16k [00:00<?, ?B/s]"
      ]
     },
     "metadata": {},
     "output_type": "display_data"
    },
    {
     "data": {
      "application/vnd.jupyter.widget-view+json": {
       "model_id": "0398344b26124310829e621027eb23fd",
       "version_major": 2,
       "version_minor": 0
      },
      "text/plain": [
       "Upload 3 LFS files:   0%|          | 0/3 [00:00<?, ?it/s]"
      ]
     },
     "metadata": {},
     "output_type": "display_data"
    },
    {
     "data": {
      "application/vnd.jupyter.widget-view+json": {
       "model_id": "ca3b06767c9a41b7aa1ae9e7ee645273",
       "version_major": 2,
       "version_minor": 0
      },
      "text/plain": [
       "events.out.tfevents.1700826307.5aec582beaec.38279.0:   0%|          | 0.00/16.3k [00:00<?, ?B/s]"
      ]
     },
     "metadata": {},
     "output_type": "display_data"
    },
    {
     "data": {
      "application/vnd.jupyter.widget-view+json": {
       "model_id": "b103509531bd40019e39fc8b20336d7a",
       "version_major": 2,
       "version_minor": 0
      },
      "text/plain": [
       "model.safetensors:   0%|          | 0.00/443M [00:00<?, ?B/s]"
      ]
     },
     "metadata": {},
     "output_type": "display_data"
    },
    {
     "data": {
      "text/plain": [
       "'https://huggingface.co/luigisaetta/sentiment_ita/tree/main/'"
      ]
     },
     "execution_count": 17,
     "metadata": {},
     "output_type": "execute_result"
    }
   ],
   "source": [
    "trainer.push_to_hub(SAVE_DIR)"
   ]
  },
  {
   "cell_type": "code",
   "execution_count": null,
   "id": "c751ca44",
   "metadata": {},
   "outputs": [],
   "source": []
  }
 ],
 "metadata": {
  "kernelspec": {
   "display_name": "Python [conda env:pytorch20_p39_gpu_v2]",
   "language": "python",
   "name": "conda-env-pytorch20_p39_gpu_v2-py"
  },
  "language_info": {
   "codemirror_mode": {
    "name": "ipython",
    "version": 3
   },
   "file_extension": ".py",
   "mimetype": "text/x-python",
   "name": "python",
   "nbconvert_exporter": "python",
   "pygments_lexer": "ipython3",
   "version": "3.9.16"
  }
 },
 "nbformat": 4,
 "nbformat_minor": 5
}
