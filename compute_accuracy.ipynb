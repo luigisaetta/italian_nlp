{
 "cells": [
  {
   "cell_type": "markdown",
   "id": "d0d23233",
   "metadata": {},
   "source": [
    "### Compute accuracy on a given dataset\n",
    "\n",
    "* This Notebook show how to compute the accuracy of a given model (for example from HF HUb) computed on a given dataset, provided as a csv file"
   ]
  },
  {
   "cell_type": "code",
   "execution_count": 1,
   "id": "9f92c9bb",
   "metadata": {},
   "outputs": [
    {
     "name": "stdout",
     "output_type": "stream",
     "text": [
      "[2023-11-25 13:17:15,795] [INFO] [real_accelerator.py:133:get_accelerator] Setting ds_accelerator to cuda (auto detect)\n"
     ]
    }
   ],
   "source": [
    "import numpy as np\n",
    "from datasets import load_dataset, concatenate_datasets, ClassLabel, Features, Value\n",
    "from transformers import pipeline"
   ]
  },
  {
   "cell_type": "code",
   "execution_count": 2,
   "id": "f49517b7",
   "metadata": {},
   "outputs": [],
   "source": [
    "FILE_NAME = \"second_dataset.csv\"\n",
    "\n",
    "MODEL_NAME = \"luigisaetta/sentiment_ita\""
   ]
  },
  {
   "cell_type": "code",
   "execution_count": 3,
   "id": "2fe305c4",
   "metadata": {},
   "outputs": [],
   "source": [
    "# all tools here\n",
    "label_to_int = {\n",
    "    \"negative\": 0,\n",
    "    \"neutral\": 1,\n",
    "    \"positive\": 2\n",
    "}\n",
    "\n",
    "# for my custom dataset\n",
    "def remove_non_breaking_space(example):\n",
    "    # Assuming the text is under the key 'text'\n",
    "    example['text'] = example['text'].replace('\\xa0', ' ')\n",
    "    return example\n",
    "\n",
    "# the pipeline\n",
    "classifier = pipeline(\"text-classification\", model=MODEL_NAME)"
   ]
  },
  {
   "cell_type": "code",
   "execution_count": 4,
   "id": "72d4f9a0",
   "metadata": {},
   "outputs": [],
   "source": [
    "# need to cast int to ClassLabel\n",
    "features = Features({\n",
    "    'text': Value('string'),\n",
    "    'label': ClassLabel(names=['negative', 'neutral', 'positive'])\n",
    "})\n",
    "\n",
    "# remove the split and take (the only) train\n",
    "DELIMITER = \",\"\n",
    "\n",
    "my_csv_ds = load_dataset('csv', data_files=FILE_NAME, delimiter=DELIMITER, features=features)[\"train\"]\n",
    "\n",
    "# remove non breaking space\n",
    "my_csv_ds = my_csv_ds.map(remove_non_breaking_space)"
   ]
  },
  {
   "cell_type": "code",
   "execution_count": 5,
   "id": "38cdeee0",
   "metadata": {},
   "outputs": [
    {
     "data": {
      "text/plain": [
       "{'text': \"Buongiorno sono utente3 volevo chiedere un appuntamento con l'assessore assessore33 se possibile per la prossima settimana grazie Matteo\",\n",
       " 'label': 1}"
      ]
     },
     "execution_count": 5,
     "metadata": {},
     "output_type": "execute_result"
    }
   ],
   "source": [
    "# have a look at one example\n",
    "my_csv_ds[1]"
   ]
  },
  {
   "cell_type": "code",
   "execution_count": 6,
   "id": "e75f98dd",
   "metadata": {},
   "outputs": [
    {
     "name": "stdout",
     "output_type": "stream",
     "text": [
      "\n",
      "On the provided dataset, Accuracy is: 1.00\n"
     ]
    }
   ],
   "source": [
    "batch_size = 32  # Define your batch size\n",
    "\n",
    "correct = 0\n",
    "total = 0\n",
    "\n",
    "for i in range(0, len(my_csv_ds), batch_size):\n",
    "    batch = my_csv_ds[i:i + batch_size]\n",
    "    \n",
    "    predictions = classifier(batch[\"text\"])\n",
    "    \n",
    "    for idx, item in enumerate(predictions):\n",
    "        total += 1\n",
    "        predicted_label = label_to_int[predictions[idx][\"label\"]]\n",
    "        true_label = batch['label'][idx]\n",
    "        \n",
    "        if true_label == predicted_label:\n",
    "            correct += 1\n",
    "            \n",
    "accuracy = float(correct)/float(total)\n",
    "\n",
    "print()\n",
    "print(f\"On the provided dataset, Accuracy is: {accuracy:.2f}\")"
   ]
  },
  {
   "cell_type": "code",
   "execution_count": null,
   "id": "6d2db2c5",
   "metadata": {},
   "outputs": [],
   "source": []
  }
 ],
 "metadata": {
  "kernelspec": {
   "display_name": "Python [conda env:pytorch20_p39_gpu_v2]",
   "language": "python",
   "name": "conda-env-pytorch20_p39_gpu_v2-py"
  },
  "language_info": {
   "codemirror_mode": {
    "name": "ipython",
    "version": 3
   },
   "file_extension": ".py",
   "mimetype": "text/x-python",
   "name": "python",
   "nbconvert_exporter": "python",
   "pygments_lexer": "ipython3",
   "version": "3.9.16"
  }
 },
 "nbformat": 4,
 "nbformat_minor": 5
}
