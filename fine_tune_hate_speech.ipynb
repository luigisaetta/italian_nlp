{
 "cells": [
  {
   "cell_type": "markdown",
   "id": "09e1201b",
   "metadata": {},
   "source": [
    "### Fine tune an HF model on Italian Hate Speech detection\n",
    "* starting point: bert-base-italian-cased\n",
    "* fine tuned on: cardiffnlp/tweet_sentiment_multilingual, italian subset\n",
    "* + a set of email generated for one Town demo (contained in a csv file)"
   ]
  },
  {
   "cell_type": "code",
   "execution_count": 1,
   "id": "6fcad512",
   "metadata": {},
   "outputs": [
    {
     "name": "stdout",
     "output_type": "stream",
     "text": [
      "[2023-11-27 13:26:27,289] [INFO] [real_accelerator.py:133:get_accelerator] Setting ds_accelerator to cuda (auto detect)\n"
     ]
    }
   ],
   "source": [
    "import numpy as np\n",
    "from datasets import load_dataset, concatenate_datasets, ClassLabel, Features, Value\n",
    "from transformers import AutoTokenizer\n",
    "from transformers import AutoModelForSequenceClassification\n",
    "from transformers import TrainingArguments\n",
    "from transformers import TrainingArguments, Trainer\n",
    "import evaluate"
   ]
  },
  {
   "cell_type": "code",
   "execution_count": 2,
   "id": "db29ba6c",
   "metadata": {},
   "outputs": [],
   "source": [
    "# contains email and sentiment to add to the training dataset\n",
    "# hand labelled\n",
    "\n",
    "DATASET_NAME = \"Paul/hatecheck-italian\"\n",
    "\n",
    "PRETRAINED_MODEL_NAME = \"MilaNLProc/hate-ita-xlm-r-large\"\n",
    "\n",
    "features = Features({\n",
    "    'test_case': Value('string'),\n",
    "    'label_gold': ClassLabel(names=['non-hateful', 'hateful'])\n",
    "})"
   ]
  },
  {
   "cell_type": "code",
   "execution_count": 3,
   "id": "ca4488f1",
   "metadata": {},
   "outputs": [],
   "source": [
    "# labels are defined in english since the original dataset use english labels"
   ]
  },
  {
   "cell_type": "code",
   "execution_count": 4,
   "id": "a3d4f80d",
   "metadata": {},
   "outputs": [],
   "source": [
    "# all tools here\n",
    "tokenizer = AutoTokenizer.from_pretrained(PRETRAINED_MODEL_NAME)\n",
    "\n",
    "model = AutoModelForSequenceClassification.from_pretrained(PRETRAINED_MODEL_NAME, num_labels=2)\n",
    "\n",
    "metric = evaluate.load(\"accuracy\")\n",
    "\n",
    "def tokenize_function(examples):\n",
    "    return tokenizer(examples[\"text\"], padding=\"max_length\", truncation=True)\n",
    "\n",
    "def compute_metrics(eval_pred):\n",
    "    logits, labels = eval_pred\n",
    "    predictions = np.argmax(logits, axis=-1)\n",
    "    return metric.compute(predictions=predictions, references=labels)\n",
    "\n",
    "# for my custom dataset\n",
    "def remove_non_breaking_space(example):\n",
    "    # Assuming the text is under the key 'text'\n",
    "    example['text'] = example['text'].replace('\\xa0', ' ')\n",
    "    return example\n",
    "\n",
    "def to_lower(example):\n",
    "    example['text'] = [s.lower() for s in example['text']]\n",
    "    \n",
    "    return example"
   ]
  },
  {
   "cell_type": "markdown",
   "id": "f125c054",
   "metadata": {},
   "source": [
    "### Load and preprocess the data"
   ]
  },
  {
   "cell_type": "code",
   "execution_count": 5,
   "id": "bdc84534",
   "metadata": {},
   "outputs": [],
   "source": [
    "# load hatespeech ita dataset\n",
    "dataset = load_dataset(DATASET_NAME, usecols=['test_case', 'label_gold'], features=features)[\"test\"]\n",
    "\n",
    "dataset = dataset.shuffle(seed=42)"
   ]
  },
  {
   "cell_type": "code",
   "execution_count": 6,
   "id": "d8e0d222",
   "metadata": {},
   "outputs": [
    {
     "data": {
      "text/plain": [
       "{'test_case': 'Le recensioni di quel film sono semplicemente patetiche.',\n",
       " 'label_gold': 0}"
      ]
     },
     "execution_count": 6,
     "metadata": {},
     "output_type": "execute_result"
    }
   ],
   "source": [
    "# have a look at one example\n",
    "dataset[0]"
   ]
  },
  {
   "cell_type": "code",
   "execution_count": 7,
   "id": "68ed522b",
   "metadata": {},
   "outputs": [
    {
     "data": {
      "text/plain": [
       "{'test_case': Value(dtype='string', id=None),\n",
       " 'label_gold': ClassLabel(names=['non-hateful', 'hateful'], id=None)}"
      ]
     },
     "execution_count": 7,
     "metadata": {},
     "output_type": "execute_result"
    }
   ],
   "source": [
    "dataset.features"
   ]
  },
  {
   "cell_type": "code",
   "execution_count": 8,
   "id": "221d6a7d",
   "metadata": {},
   "outputs": [],
   "source": [
    "# tokenize\n",
    "dataset = dataset.rename_column(\"test_case\", \"text\")\n",
    "dataset = dataset.rename_column(\"label_gold\", \"label\")\n",
    "\n",
    "dataset = dataset.map(to_lower, batched=True)\n",
    "tokenized_datasets = dataset.map(tokenize_function, batched=True)"
   ]
  },
  {
   "cell_type": "code",
   "execution_count": 9,
   "id": "0be67be2",
   "metadata": {},
   "outputs": [],
   "source": [
    "tokenized_datasets_train_test_split = tokenized_datasets.train_test_split(test_size=0.1)"
   ]
  },
  {
   "cell_type": "code",
   "execution_count": 10,
   "id": "448c5710",
   "metadata": {},
   "outputs": [],
   "source": [
    "# build the training and validation dataset\n",
    "# we add the custom dataset, from csv, only to training dataset\n",
    "train_ds = tokenized_datasets_train_test_split[\"train\"].shuffle(seed=42)\n",
    "eval_ds = tokenized_datasets_train_test_split[\"test\"].shuffle(seed=42)"
   ]
  },
  {
   "cell_type": "code",
   "execution_count": 11,
   "id": "0681df33",
   "metadata": {},
   "outputs": [
    {
     "name": "stdout",
     "output_type": "stream",
     "text": [
      "We have 3321 samples in training dataset...\n",
      "We have 369 samples in validation dataset...\n"
     ]
    }
   ],
   "source": [
    "print(f\"We have {len(train_ds)} samples in training dataset...\")\n",
    "print(f\"We have {len(eval_ds)} samples in validation dataset...\")"
   ]
  },
  {
   "cell_type": "code",
   "execution_count": 12,
   "id": "5b9d7c9c",
   "metadata": {},
   "outputs": [
    {
     "data": {
      "text/plain": [
       "Dataset({\n",
       "    features: ['text', 'label', 'input_ids', 'attention_mask'],\n",
       "    num_rows: 3321\n",
       "})"
      ]
     },
     "execution_count": 12,
     "metadata": {},
     "output_type": "execute_result"
    }
   ],
   "source": [
    "train_ds"
   ]
  },
  {
   "cell_type": "markdown",
   "id": "b1a9a29e",
   "metadata": {},
   "source": [
    "### Prepare for training"
   ]
  },
  {
   "cell_type": "code",
   "execution_count": 13,
   "id": "73792d4d",
   "metadata": {},
   "outputs": [],
   "source": [
    "SAVE_DIR = \"haspeech_ita\"\n",
    "\n",
    "EPOCHS = 3\n",
    "\n",
    "batch_size = 8\n",
    "\n",
    "training_args = TrainingArguments(output_dir=SAVE_DIR, \n",
    "                                  evaluation_strategy=\"steps\",\n",
    "                                  save_strategy=\"steps\",\n",
    "                                  logging_strategy=\"steps\",\n",
    "                                  num_train_epochs=EPOCHS,\n",
    "                                  logging_steps=100,\n",
    "                                  save_steps=100,\n",
    "                                  eval_steps=100,\n",
    "                                  warmup_steps=500,\n",
    "                                  learning_rate=2e-5,\n",
    "                                  load_best_model_at_end=True,\n",
    "                                  metric_for_best_model=\"accuracy\",\n",
    "                                  greater_is_better=True,\n",
    "                                  save_total_limit=1,\n",
    "                                  per_device_train_batch_size=8\n",
    "                                 )"
   ]
  },
  {
   "cell_type": "code",
   "execution_count": 14,
   "id": "ca7d9422",
   "metadata": {},
   "outputs": [],
   "source": [
    "trainer = Trainer(\n",
    "    model=model,\n",
    "    args=training_args,\n",
    "    train_dataset=train_ds,\n",
    "    eval_dataset=eval_ds,\n",
    "    compute_metrics=compute_metrics,\n",
    ")"
   ]
  },
  {
   "cell_type": "markdown",
   "id": "f384afb8",
   "metadata": {},
   "source": [
    "### Training"
   ]
  },
  {
   "cell_type": "code",
   "execution_count": 15,
   "id": "2e899556",
   "metadata": {},
   "outputs": [
    {
     "data": {
      "text/html": [
       "\n",
       "    <div>\n",
       "      \n",
       "      <progress value='624' max='624' style='width:300px; height:20px; vertical-align: middle;'></progress>\n",
       "      [624/624 14:04, Epoch 3/3]\n",
       "    </div>\n",
       "    <table border=\"1\" class=\"dataframe\">\n",
       "  <thead>\n",
       " <tr style=\"text-align: left;\">\n",
       "      <th>Step</th>\n",
       "      <th>Training Loss</th>\n",
       "      <th>Validation Loss</th>\n",
       "      <th>Accuracy</th>\n",
       "    </tr>\n",
       "  </thead>\n",
       "  <tbody>\n",
       "    <tr>\n",
       "      <td>100</td>\n",
       "      <td>0.353800</td>\n",
       "      <td>0.210940</td>\n",
       "      <td>0.924119</td>\n",
       "    </tr>\n",
       "    <tr>\n",
       "      <td>200</td>\n",
       "      <td>0.180000</td>\n",
       "      <td>0.105832</td>\n",
       "      <td>0.978320</td>\n",
       "    </tr>\n",
       "    <tr>\n",
       "      <td>300</td>\n",
       "      <td>0.092400</td>\n",
       "      <td>0.061830</td>\n",
       "      <td>0.989160</td>\n",
       "    </tr>\n",
       "    <tr>\n",
       "      <td>400</td>\n",
       "      <td>0.094800</td>\n",
       "      <td>0.038228</td>\n",
       "      <td>0.989160</td>\n",
       "    </tr>\n",
       "    <tr>\n",
       "      <td>500</td>\n",
       "      <td>0.047500</td>\n",
       "      <td>0.060707</td>\n",
       "      <td>0.991870</td>\n",
       "    </tr>\n",
       "    <tr>\n",
       "      <td>600</td>\n",
       "      <td>0.057200</td>\n",
       "      <td>0.002976</td>\n",
       "      <td>0.997290</td>\n",
       "    </tr>\n",
       "  </tbody>\n",
       "</table><p>"
      ],
      "text/plain": [
       "<IPython.core.display.HTML object>"
      ]
     },
     "metadata": {},
     "output_type": "display_data"
    },
    {
     "data": {
      "text/plain": [
       "TrainOutput(global_step=624, training_loss=0.13232149134199014, metrics={'train_runtime': 847.8441, 'train_samples_per_second': 11.751, 'train_steps_per_second': 0.736, 'total_flos': 9284832172836864.0, 'train_loss': 0.13232149134199014, 'epoch': 3.0})"
      ]
     },
     "execution_count": 15,
     "metadata": {},
     "output_type": "execute_result"
    }
   ],
   "source": [
    "trainer.train()"
   ]
  },
  {
   "cell_type": "markdown",
   "id": "1957052d",
   "metadata": {},
   "source": [
    "### Saving"
   ]
  },
  {
   "cell_type": "code",
   "execution_count": 16,
   "id": "4c8e8a41",
   "metadata": {},
   "outputs": [
    {
     "data": {
      "text/plain": [
       "('haspeech_ita/tokenizer_config.json',\n",
       " 'haspeech_ita/special_tokens_map.json',\n",
       " 'haspeech_ita/sentencepiece.bpe.model',\n",
       " 'haspeech_ita/added_tokens.json',\n",
       " 'haspeech_ita/tokenizer.json')"
      ]
     },
     "execution_count": 16,
     "metadata": {},
     "output_type": "execute_result"
    }
   ],
   "source": [
    "model.save_pretrained(SAVE_DIR)\n",
    "tokenizer.save_pretrained(SAVE_DIR)"
   ]
  },
  {
   "cell_type": "markdown",
   "id": "e1f10da5",
   "metadata": {},
   "source": [
    "### Save to HF Hub"
   ]
  },
  {
   "cell_type": "code",
   "execution_count": 17,
   "id": "a00595ff",
   "metadata": {},
   "outputs": [
    {
     "data": {
      "application/vnd.jupyter.widget-view+json": {
       "model_id": "c309c745dbfb465a97f72d297b31fa61",
       "version_major": 2,
       "version_minor": 0
      },
      "text/plain": [
       "events.out.tfevents.1701090191.13035cb65e56.30115.0:   0%|          | 0.00/4.59k [00:00<?, ?B/s]"
      ]
     },
     "metadata": {},
     "output_type": "display_data"
    },
    {
     "data": {
      "application/vnd.jupyter.widget-view+json": {
       "model_id": "fbb2dafba5014aa59b77fdcefca65b88",
       "version_major": 2,
       "version_minor": 0
      },
      "text/plain": [
       "model.safetensors:   0%|          | 0.00/2.24G [00:00<?, ?B/s]"
      ]
     },
     "metadata": {},
     "output_type": "display_data"
    },
    {
     "data": {
      "application/vnd.jupyter.widget-view+json": {
       "model_id": "135ecf6370da4cd690c7362bfd2d194f",
       "version_major": 2,
       "version_minor": 0
      },
      "text/plain": [
       "events.out.tfevents.1701090147.13035cb65e56.29582.0:   0%|          | 0.00/4.59k [00:00<?, ?B/s]"
      ]
     },
     "metadata": {},
     "output_type": "display_data"
    },
    {
     "data": {
      "application/vnd.jupyter.widget-view+json": {
       "model_id": "661b1507bc3e43d791b919595b912c06",
       "version_major": 2,
       "version_minor": 0
      },
      "text/plain": [
       "events.out.tfevents.1701090758.d9cf46c62339.647.0:   0%|          | 0.00/4.59k [00:00<?, ?B/s]"
      ]
     },
     "metadata": {},
     "output_type": "display_data"
    },
    {
     "data": {
      "application/vnd.jupyter.widget-view+json": {
       "model_id": "ec6fca809afe49849f20178678f0fe23",
       "version_major": 2,
       "version_minor": 0
      },
      "text/plain": [
       "Upload 9 LFS files:   0%|          | 0/9 [00:00<?, ?it/s]"
      ]
     },
     "metadata": {},
     "output_type": "display_data"
    },
    {
     "data": {
      "application/vnd.jupyter.widget-view+json": {
       "model_id": "3eecd33a91d44364ac8e3d45e6d707cd",
       "version_major": 2,
       "version_minor": 0
      },
      "text/plain": [
       "events.out.tfevents.1701090819.d9cf46c62339.1210.0:   0%|          | 0.00/6.98k [00:00<?, ?B/s]"
      ]
     },
     "metadata": {},
     "output_type": "display_data"
    },
    {
     "data": {
      "application/vnd.jupyter.widget-view+json": {
       "model_id": "7d79e71963d74df691e46fc7fd499a52",
       "version_major": 2,
       "version_minor": 0
      },
      "text/plain": [
       "events.out.tfevents.1701091638.d9cf46c62339.3722.0:   0%|          | 0.00/7.82k [00:00<?, ?B/s]"
      ]
     },
     "metadata": {},
     "output_type": "display_data"
    },
    {
     "data": {
      "application/vnd.jupyter.widget-view+json": {
       "model_id": "1e7cf3711d904e93b7e2510dd987b8f2",
       "version_major": 2,
       "version_minor": 0
      },
      "text/plain": [
       "sentencepiece.bpe.model:   0%|          | 0.00/5.07M [00:00<?, ?B/s]"
      ]
     },
     "metadata": {},
     "output_type": "display_data"
    },
    {
     "data": {
      "application/vnd.jupyter.widget-view+json": {
       "model_id": "a5a77aa3adac4ee79f395c89fedd0abc",
       "version_major": 2,
       "version_minor": 0
      },
      "text/plain": [
       "tokenizer.json:   0%|          | 0.00/17.1M [00:00<?, ?B/s]"
      ]
     },
     "metadata": {},
     "output_type": "display_data"
    },
    {
     "data": {
      "application/vnd.jupyter.widget-view+json": {
       "model_id": "5a3dde5c71c344fa9400a0fbe587e250",
       "version_major": 2,
       "version_minor": 0
      },
      "text/plain": [
       "training_args.bin:   0%|          | 0.00/4.16k [00:00<?, ?B/s]"
      ]
     },
     "metadata": {},
     "output_type": "display_data"
    },
    {
     "data": {
      "text/plain": [
       "'https://huggingface.co/luigisaetta/haspeech_ita/tree/main/'"
      ]
     },
     "execution_count": 17,
     "metadata": {},
     "output_type": "execute_result"
    }
   ],
   "source": [
    "trainer.push_to_hub(SAVE_DIR)"
   ]
  },
  {
   "cell_type": "code",
   "execution_count": null,
   "id": "85d64bb9",
   "metadata": {},
   "outputs": [],
   "source": []
  }
 ],
 "metadata": {
  "kernelspec": {
   "display_name": "Python [conda env:pytorch20_p39_gpu_v2]",
   "language": "python",
   "name": "conda-env-pytorch20_p39_gpu_v2-py"
  },
  "language_info": {
   "codemirror_mode": {
    "name": "ipython",
    "version": 3
   },
   "file_extension": ".py",
   "mimetype": "text/x-python",
   "name": "python",
   "nbconvert_exporter": "python",
   "pygments_lexer": "ipython3",
   "version": "3.9.16"
  }
 },
 "nbformat": 4,
 "nbformat_minor": 5
}
